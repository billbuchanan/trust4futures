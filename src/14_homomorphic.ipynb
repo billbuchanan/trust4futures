{
 "cells": [
  {
   "cell_type": "markdown",
   "id": "a7782a35",
   "metadata": {},
   "source": [
    "\n",
    "# Tunnelling and Web Security\n",
    "Objective: In this lab we will investigate the usage of SSL/TLS and VPN tunnftels.\n",
    "# Post Quantum Cryptography\n",
    "\n",
    "## Simple Kyber example\n",
    "NIST has defined that Kyber will be developed as a standard for PQC (Post Quantum Cryptography) key exchange and public key encryption. The main methods are Kyber512 (128-bit AES security level equivalent), Kyber768 (192-bit AES security level equivalent) and Kyber1024 (256-bit AES security level equivalent. In Kyber we modify the normal LWE (Learning With Errors) approach and use MLWE (Module Learning With Errors). With MLWE we use vectors of polynomials [2]. In this case, we will implement a very simple Kyber example and generate a public key and a private key, and then encrypt a message [1]. \n"
   ]
  },
  {
   "cell_type": "code",
   "execution_count": 2,
   "id": "11f4d2ea",
   "metadata": {},
   "outputs": [
    {
     "name": "stdout",
     "output_type": "stream",
     "text": [
      "   3     2\n",
      "2 x + 3 x + 10 x + 3\n",
      "   4      2\n",
      "3 x + 14 x + 10 x + 4\n",
      "   4     3\n",
      "3 x + 2 x + 3 x + 7\n",
      "   7     6     5     4     3     2\n",
      "6 x + 9 x + 7 x + 3 x + 8 x + 1 x + 2 x + 12\n",
      "    4     3     2\n",
      "14 x + 2 x + 6 x + 16\n",
      "   3     2\n",
      "2 x + 3 x + 10 x + 3\n"
     ]
    }
   ],
   "source": [
    "    import numpy as np\n",
    "    import sys\n",
    "    import numpy\n",
    "\n",
    "    q=17\n",
    "\n",
    "    a= [2,3,10,3] # 2x^4+3x^3+10x+3\n",
    "    b= [3,0,14,10,4] # 3x^5+14x^3+10x+4\n",
    "\n",
    "    print (np.poly1d(a))\n",
    "    print (np.poly1d(b))\n",
    "\n",
    "    r1 = np.floor( np.polyadd(a,b)) % q # Polynomial add\n",
    "    r2 = np.floor( np.polymul(a,b)) % q # Polynomial multiply\n",
    "    r3 = np.floor( np.polysub(a,b)) % q #  Polynomial subtract\n",
    "    r4 = np.floor( np.polydiv(a,b)[1]) % q # Polynomial divide with remainder\n",
    "\n",
    "\n",
    "    print (np.poly1d(r1))\n",
    "    print (np.poly1d(r2))\n",
    "    print (np.poly1d(r3))\n",
    "    print (np.poly1d(r4))"
   ]
  },
  {
   "cell_type": "markdown",
   "id": "053856e3",
   "metadata": {},
   "source": [
    "And a simple example:"
   ]
  },
  {
   "cell_type": "code",
   "execution_count": 8,
   "id": "5ad4ee5a",
   "metadata": {},
   "outputs": [
    {
     "ename": "ModuleNotFoundError",
     "evalue": "No module named 'code.polynomials'; 'code' is not a package",
     "output_type": "error",
     "traceback": [
      "\u001b[1;31m---------------------------------------------------------------------------\u001b[0m",
      "\u001b[1;31mModuleNotFoundError\u001b[0m                       Traceback (most recent call last)",
      "Cell \u001b[1;32mIn[8], line 2\u001b[0m\n\u001b[0;32m      1\u001b[0m \u001b[38;5;66;03m# Based on https://github.com/jack4818/kyber-py\u001b[39;00m\n\u001b[1;32m----> 2\u001b[0m \u001b[38;5;28;01mfrom\u001b[39;00m \u001b[38;5;21;01mcode\u001b[39;00m\u001b[38;5;21;01m.\u001b[39;00m\u001b[38;5;21;01mpolynomials\u001b[39;00m \u001b[38;5;28;01mimport\u001b[39;00m \u001b[38;5;241m*\u001b[39m\n\u001b[0;32m      3\u001b[0m \u001b[38;5;28;01mfrom\u001b[39;00m \u001b[38;5;21;01mcode\u001b[39;00m\u001b[38;5;21;01m.\u001b[39;00m\u001b[38;5;21;01mmodules\u001b[39;00m \u001b[38;5;28;01mimport\u001b[39;00m \u001b[38;5;241m*\u001b[39m\n\u001b[0;32m      5\u001b[0m R \u001b[38;5;241m=\u001b[39m PolynomialRing(\u001b[38;5;241m17\u001b[39m, \u001b[38;5;241m4\u001b[39m)\n",
      "\u001b[1;31mModuleNotFoundError\u001b[0m: No module named 'code.polynomials'; 'code' is not a package"
     ]
    }
   ],
   "source": [
    "# Based on https://github.com/jack4818/kyber-py\n",
    "from code.polynomials import *\n",
    "from code.modules import *\n",
    "\n",
    "R = PolynomialRing(17, 4)\n",
    "M = Module(R)\n",
    "\n",
    "s0 = R([0,1,-1,1])\n",
    "s1 = R([0,1,0,1])\n",
    "s = M([s0,s1]).transpose()\n",
    "\n",
    "A00 = R([11,16,16,6])\n",
    "A01 = R([3,6,4,9])\n",
    "A10 = R([1,10,3,5])\n",
    "A11 = R([15,9,1,6])\n",
    "A = M([[A00, A01],[A10, A11]])\n",
    "\n",
    "A00 = R([1,6,16,6])\n",
    "A01 = R([10,0,5,0])\n",
    "A10 = R([4,5,8,3])\n",
    "A11 = R([4,2,8,9])\n",
    "A = M([[A00, A01],[A10, A11]])\n",
    "\n",
    "e0 = R([1,0,1,0])\n",
    "e1 = R([-1,1,0,0])\n",
    "e = M([e0,e1]).transpose()\n",
    "\n",
    "t = A @ s + e\n",
    "\n",
    "print(\"A->\",A)\n",
    "print(\"t->\",t)"
   ]
  }
 ],
 "metadata": {
  "kernelspec": {
   "display_name": "Python 3 (ipykernel)",
   "language": "python",
   "name": "python3"
  },
  "language_info": {
   "codemirror_mode": {
    "name": "ipython",
    "version": 3
   },
   "file_extension": ".py",
   "mimetype": "text/x-python",
   "name": "python",
   "nbconvert_exporter": "python",
   "pygments_lexer": "ipython3",
   "version": "3.11.9"
  }
 },
 "nbformat": 4,
 "nbformat_minor": 5
}
